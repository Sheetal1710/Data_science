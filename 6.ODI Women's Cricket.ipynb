{
 "cells": [
  {
   "cell_type": "markdown",
   "metadata": {},
   "source": [
    "# 6. i)Python program to scrape Top 10 ODI teams in women’s cricket along with the records for matches, points and rating from ‘www.icc-cricket.com’. "
   ]
  },
  {
   "cell_type": "code",
   "execution_count": 1,
   "metadata": {},
   "outputs": [
    {
     "name": "stdout",
     "output_type": "stream",
     "text": [
      "Requirement already satisfied: selenium in /Library/anaconda3/lib/python3.7/site-packages (3.141.0)\r\n",
      "Requirement already satisfied: urllib3 in /Library/anaconda3/lib/python3.7/site-packages (from selenium) (1.25.8)\r\n"
     ]
    }
   ],
   "source": [
    "!pip install selenium"
   ]
  },
  {
   "cell_type": "code",
   "execution_count": 2,
   "metadata": {},
   "outputs": [],
   "source": [
    "from selenium import webdriver\n",
    "from bs4 import BeautifulSoup\n",
    "import pandas as pd"
   ]
  },
  {
   "cell_type": "code",
   "execution_count": 3,
   "metadata": {},
   "outputs": [],
   "source": [
    "driver = webdriver.Chrome(\"/Users/apple/.wdm/drivers/chromedriver/mac64/86.0.4240.22/chromedriver\")"
   ]
  },
  {
   "cell_type": "code",
   "execution_count": 6,
   "metadata": {},
   "outputs": [],
   "source": [
    "Team= []\n",
    "Matches =[]\n",
    "Rating= []\n",
    "\n",
    "url ='https://www.icc-cricket.com/rankings/womens/team-rankings/odi'\n",
    "driver.get(url)"
   ]
  },
  {
   "cell_type": "code",
   "execution_count": 7,
   "metadata": {},
   "outputs": [],
   "source": [
    "soup=BeautifulSoup(driver.page_source, 'html.parser')"
   ]
  },
  {
   "cell_type": "code",
   "execution_count": 8,
   "metadata": {},
   "outputs": [],
   "source": [
    "for i in soup.find_all(\"span\",attrs={'class':\"u-hide-phablet\"},limit=10):\n",
    "    names = i.text.replace('\\n\\n',' ').replace(\" \",\"\").strip()\n",
    "    Team.append(names)"
   ]
  },
  {
   "cell_type": "code",
   "execution_count": 11,
   "metadata": {},
   "outputs": [
    {
     "data": {
      "text/plain": [
       "['Australia',\n",
       " 'India',\n",
       " 'England',\n",
       " 'SouthAfrica',\n",
       " 'NewZealand',\n",
       " 'WestIndies',\n",
       " 'Pakistan',\n",
       " 'Bangladesh',\n",
       " 'SriLanka',\n",
       " 'Ireland']"
      ]
     },
     "execution_count": 11,
     "metadata": {},
     "output_type": "execute_result"
    }
   ],
   "source": [
    "Team"
   ]
  },
  {
   "cell_type": "code",
   "execution_count": 9,
   "metadata": {},
   "outputs": [],
   "source": [
    "top=soup.find(\"td\",attrs={'class':\"rankings-block__banner--matches\"})\n",
    "temp=top.text.replace('\\n',' ')\n",
    "Matches.append(temp)\n",
    "for i in soup.find_all(\"td\",attrs={'class':\"table-body__cell u-center-text\"},limit=9):\n",
    "    match= i.text.replace(\" \",\"\").strip()\n",
    "    Matches.append(match)"
   ]
  },
  {
   "cell_type": "code",
   "execution_count": 14,
   "metadata": {},
   "outputs": [
    {
     "data": {
      "text/plain": [
       "['15', '15', '1,812', '14', '1,670', '16', '1,713', '15', '1,384', '12']"
      ]
     },
     "execution_count": 14,
     "metadata": {},
     "output_type": "execute_result"
    }
   ],
   "source": [
    "Matches"
   ]
  },
  {
   "cell_type": "code",
   "execution_count": 10,
   "metadata": {},
   "outputs": [],
   "source": [
    "top=soup.find(\"td\",attrs={'class':\"rankings-block__banner--rating u-text-right\"})\n",
    "temp=top.text.replace('\\n',' ')\n",
    "Rating.append(temp)\n",
    "for i in soup.find_all(\"td\",attrs={'class':\"table-body__cell u-text-right rating\"},limit=9):\n",
    "    ratings= i.text.replace(\" \",\"\").strip()\n",
    "    Rating.append(ratings)"
   ]
  },
  {
   "cell_type": "code",
   "execution_count": 15,
   "metadata": {},
   "outputs": [
    {
     "data": {
      "text/plain": [
       "['                             162                               ',\n",
       " '121',\n",
       " '119',\n",
       " '107',\n",
       " '92',\n",
       " '85',\n",
       " '77',\n",
       " '61',\n",
       " '47',\n",
       " '13']"
      ]
     },
     "execution_count": 15,
     "metadata": {},
     "output_type": "execute_result"
    }
   ],
   "source": [
    "Rating"
   ]
  },
  {
   "cell_type": "markdown",
   "metadata": {},
   "source": [
    "# ii) Top 10 women’s ODI players along with the records of their team and rating."
   ]
  },
  {
   "cell_type": "code",
   "execution_count": 16,
   "metadata": {},
   "outputs": [],
   "source": [
    "Batsman= []\n",
    "Team =[]\n",
    "Rating= []\n",
    "\n",
    "url ='https://www.icc-cricket.com/rankings/womens/player-rankings/odi/batting'\n",
    "driver.get(url)"
   ]
  },
  {
   "cell_type": "code",
   "execution_count": 17,
   "metadata": {},
   "outputs": [],
   "source": [
    "soup=BeautifulSoup(driver.page_source, 'html.parser')"
   ]
  },
  {
   "cell_type": "code",
   "execution_count": 18,
   "metadata": {},
   "outputs": [],
   "source": [
    "top=soup.find(\"div\",attrs={'class':\"rankings-block__banner--name-large\"})\n",
    "temp=top.text.replace('\\n',' ')\n",
    "Batsman.append(temp)\n",
    "for i in soup.find_all(\"td\",attrs={'class':\"table-body__cell rankings-table__name name\"},limit=9):\n",
    "    player = i.text.replace('\\n\\n',' ').replace(\" \",\"\").strip()\n",
    "    Batsman.append(player)"
   ]
  },
  {
   "cell_type": "code",
   "execution_count": 20,
   "metadata": {},
   "outputs": [],
   "source": [
    "top=soup.find(\"div\",attrs={'class':\"rankings-block__banner--nationality\"})\n",
    "temp=top.text.replace('\\n',' ')\n",
    "Team.append(temp)\n",
    "for i in soup.find_all(\"span\",attrs={'class':\"table-body__logo-text\"},limit=9):\n",
    "    teams = i.text.replace('\\n\\n',' ').replace(\" \",\"\").strip()\n",
    "    Team.append(teams)"
   ]
  },
  {
   "cell_type": "code",
   "execution_count": 21,
   "metadata": {},
   "outputs": [],
   "source": [
    "top=soup.find(\"div\",attrs={'class':\"rankings-block__banner--rating\"})\n",
    "temp=top.text.replace('\\n',' ')\n",
    "Rating.append(temp)\n",
    "for i in soup.find_all(\"td\",attrs={'class':\"table-body__cell rating\"},limit=9):\n",
    "    ratings = i.text.replace('\\n\\n',' ').replace(\" \",\"\").strip()\n",
    "    Rating.append(ratings)"
   ]
  },
  {
   "cell_type": "code",
   "execution_count": 22,
   "metadata": {},
   "outputs": [
    {
     "data": {
      "text/html": [
       "<div>\n",
       "<style scoped>\n",
       "    .dataframe tbody tr th:only-of-type {\n",
       "        vertical-align: middle;\n",
       "    }\n",
       "\n",
       "    .dataframe tbody tr th {\n",
       "        vertical-align: top;\n",
       "    }\n",
       "\n",
       "    .dataframe thead th {\n",
       "        text-align: right;\n",
       "    }\n",
       "</style>\n",
       "<table border=\"1\" class=\"dataframe\">\n",
       "  <thead>\n",
       "    <tr style=\"text-align: right;\">\n",
       "      <th></th>\n",
       "      <th>Batsman</th>\n",
       "      <th>Team</th>\n",
       "      <th>Rating</th>\n",
       "    </tr>\n",
       "  </thead>\n",
       "  <tbody>\n",
       "    <tr>\n",
       "      <th>0</th>\n",
       "      <td>Meg Lanning</td>\n",
       "      <td>AUS</td>\n",
       "      <td>749</td>\n",
       "    </tr>\n",
       "    <tr>\n",
       "      <th>1</th>\n",
       "      <td>StafanieTaylor</td>\n",
       "      <td>WI</td>\n",
       "      <td>746</td>\n",
       "    </tr>\n",
       "    <tr>\n",
       "      <th>2</th>\n",
       "      <td>AlyssaHealy</td>\n",
       "      <td>AUS</td>\n",
       "      <td>741</td>\n",
       "    </tr>\n",
       "    <tr>\n",
       "      <th>3</th>\n",
       "      <td>SmritiMandhana</td>\n",
       "      <td>IND</td>\n",
       "      <td>732</td>\n",
       "    </tr>\n",
       "    <tr>\n",
       "      <th>4</th>\n",
       "      <td>AmySatterthwaite</td>\n",
       "      <td>NZ</td>\n",
       "      <td>723</td>\n",
       "    </tr>\n",
       "    <tr>\n",
       "      <th>5</th>\n",
       "      <td>TammyBeaumont</td>\n",
       "      <td>ENG</td>\n",
       "      <td>716</td>\n",
       "    </tr>\n",
       "    <tr>\n",
       "      <th>6</th>\n",
       "      <td>EllysePerry</td>\n",
       "      <td>AUS</td>\n",
       "      <td>691</td>\n",
       "    </tr>\n",
       "    <tr>\n",
       "      <th>7</th>\n",
       "      <td>LizelleLee</td>\n",
       "      <td>SA</td>\n",
       "      <td>690</td>\n",
       "    </tr>\n",
       "    <tr>\n",
       "      <th>8</th>\n",
       "      <td>LauraWolvaardt</td>\n",
       "      <td>SA</td>\n",
       "      <td>689</td>\n",
       "    </tr>\n",
       "    <tr>\n",
       "      <th>9</th>\n",
       "      <td>MithaliRaj</td>\n",
       "      <td>IND</td>\n",
       "      <td>687</td>\n",
       "    </tr>\n",
       "  </tbody>\n",
       "</table>\n",
       "</div>"
      ],
      "text/plain": [
       "            Batsman                        Team Rating\n",
       "0       Meg Lanning    AUS                         749\n",
       "1    StafanieTaylor                          WI    746\n",
       "2       AlyssaHealy                         AUS    741\n",
       "3    SmritiMandhana                         IND    732\n",
       "4  AmySatterthwaite                          NZ    723\n",
       "5     TammyBeaumont                         ENG    716\n",
       "6       EllysePerry                         AUS    691\n",
       "7        LizelleLee                          SA    690\n",
       "8    LauraWolvaardt                          SA    689\n",
       "9        MithaliRaj                         IND    687"
      ]
     },
     "execution_count": 22,
     "metadata": {},
     "output_type": "execute_result"
    }
   ],
   "source": [
    "df= pd.DataFrame({'Batsman':Batsman, 'Team':Team,'Rating':Rating})\n",
    "df"
   ]
  },
  {
   "cell_type": "code",
   "execution_count": 23,
   "metadata": {},
   "outputs": [],
   "source": [
    "df.to_csv('Top_10_ODI_Batsman.csv',encoding='utf-8-sig')"
   ]
  },
  {
   "cell_type": "markdown",
   "metadata": {},
   "source": [
    "# iii) Top 10 women’s ODI all-rounder along with the records of their team and rating."
   ]
  },
  {
   "cell_type": "code",
   "execution_count": 24,
   "metadata": {},
   "outputs": [],
   "source": [
    "All_Rounder= []\n",
    "Team =[]\n",
    "Rating= []\n",
    "\n",
    "url ='https://www.icc-cricket.com/rankings/womens/player-rankings/odi/all-rounder'\n",
    "driver.get(url)"
   ]
  },
  {
   "cell_type": "code",
   "execution_count": 25,
   "metadata": {},
   "outputs": [],
   "source": [
    "soup=BeautifulSoup(driver.page_source, 'html.parser')"
   ]
  },
  {
   "cell_type": "code",
   "execution_count": 26,
   "metadata": {},
   "outputs": [],
   "source": [
    "top=soup.find(\"div\",attrs={'class':\"rankings-block__banner--name-large\"})\n",
    "temp=top.text.replace('\\n',' ')\n",
    "All_Rounder.append(temp)\n",
    "for i in soup.find_all(\"td\",attrs={'class':\"table-body__cell rankings-table__name name\"},limit=9):\n",
    "    players = i.text.replace('\\n\\n',' ').replace(\" \",\"\").strip()\n",
    "    All_Rounder.append(players)"
   ]
  },
  {
   "cell_type": "code",
   "execution_count": 27,
   "metadata": {},
   "outputs": [],
   "source": [
    "top=soup.find(\"div\",attrs={'class':\"rankings-block__banner--nationality\"})\n",
    "temp=top.text.replace('\\n',' ')\n",
    "Team.append(temp)\n",
    "for i in soup.find_all(\"span\",attrs={'class':\"table-body__logo-text\"},limit=9):\n",
    "    teams = i.text.replace('\\n\\n',' ').replace(\" \",\"\").strip()\n",
    "    Team.append(teams)"
   ]
  },
  {
   "cell_type": "code",
   "execution_count": 28,
   "metadata": {},
   "outputs": [],
   "source": [
    "top=soup.find(\"div\",attrs={'class':\"rankings-block__banner--rating\"})\n",
    "temp=top.text.replace('\\n',' ')\n",
    "Rating.append(temp)\n",
    "for i in soup.find_all(\"td\",attrs={'class':\"table-body__cell rating\"},limit=9):\n",
    "    ratings = i.text.replace('\\n\\n',' ').replace(\" \",\"\").strip()\n",
    "    Rating.append(ratings)"
   ]
  },
  {
   "cell_type": "code",
   "execution_count": 29,
   "metadata": {},
   "outputs": [
    {
     "data": {
      "text/html": [
       "<div>\n",
       "<style scoped>\n",
       "    .dataframe tbody tr th:only-of-type {\n",
       "        vertical-align: middle;\n",
       "    }\n",
       "\n",
       "    .dataframe tbody tr th {\n",
       "        vertical-align: top;\n",
       "    }\n",
       "\n",
       "    .dataframe thead th {\n",
       "        text-align: right;\n",
       "    }\n",
       "</style>\n",
       "<table border=\"1\" class=\"dataframe\">\n",
       "  <thead>\n",
       "    <tr style=\"text-align: right;\">\n",
       "      <th></th>\n",
       "      <th>All_Rounder</th>\n",
       "      <th>Team</th>\n",
       "      <th>Rating</th>\n",
       "    </tr>\n",
       "  </thead>\n",
       "  <tbody>\n",
       "    <tr>\n",
       "      <th>0</th>\n",
       "      <td>Ellyse Perry</td>\n",
       "      <td>AUS</td>\n",
       "      <td>460</td>\n",
       "    </tr>\n",
       "    <tr>\n",
       "      <th>1</th>\n",
       "      <td>StafanieTaylor</td>\n",
       "      <td>WI</td>\n",
       "      <td>410</td>\n",
       "    </tr>\n",
       "    <tr>\n",
       "      <th>2</th>\n",
       "      <td>MarizanneKapp</td>\n",
       "      <td>SA</td>\n",
       "      <td>389</td>\n",
       "    </tr>\n",
       "    <tr>\n",
       "      <th>3</th>\n",
       "      <td>DeeptiSharma</td>\n",
       "      <td>IND</td>\n",
       "      <td>359</td>\n",
       "    </tr>\n",
       "    <tr>\n",
       "      <th>4</th>\n",
       "      <td>DanevanNiekerk</td>\n",
       "      <td>SA</td>\n",
       "      <td>335</td>\n",
       "    </tr>\n",
       "    <tr>\n",
       "      <th>5</th>\n",
       "      <td>JessJonassen</td>\n",
       "      <td>AUS</td>\n",
       "      <td>301</td>\n",
       "    </tr>\n",
       "    <tr>\n",
       "      <th>6</th>\n",
       "      <td>SophieDevine</td>\n",
       "      <td>NZ</td>\n",
       "      <td>289</td>\n",
       "    </tr>\n",
       "    <tr>\n",
       "      <th>7</th>\n",
       "      <td>NatalieSciver</td>\n",
       "      <td>ENG</td>\n",
       "      <td>273</td>\n",
       "    </tr>\n",
       "    <tr>\n",
       "      <th>8</th>\n",
       "      <td>ShikhaPandey</td>\n",
       "      <td>IND</td>\n",
       "      <td>250</td>\n",
       "    </tr>\n",
       "    <tr>\n",
       "      <th>9</th>\n",
       "      <td>KatherineBrunt</td>\n",
       "      <td>ENG</td>\n",
       "      <td>232</td>\n",
       "    </tr>\n",
       "  </tbody>\n",
       "</table>\n",
       "</div>"
      ],
      "text/plain": [
       "      All_Rounder                        Team Rating\n",
       "0    Ellyse Perry    AUS                         460\n",
       "1  StafanieTaylor                          WI    410\n",
       "2   MarizanneKapp                          SA    389\n",
       "3    DeeptiSharma                         IND    359\n",
       "4  DanevanNiekerk                          SA    335\n",
       "5    JessJonassen                         AUS    301\n",
       "6    SophieDevine                          NZ    289\n",
       "7   NatalieSciver                         ENG    273\n",
       "8    ShikhaPandey                         IND    250\n",
       "9  KatherineBrunt                         ENG    232"
      ]
     },
     "execution_count": 29,
     "metadata": {},
     "output_type": "execute_result"
    }
   ],
   "source": [
    "df= pd.DataFrame({'All_Rounder':All_Rounder, 'Team':Team,'Rating':Rating})\n",
    "df"
   ]
  },
  {
   "cell_type": "code",
   "execution_count": 30,
   "metadata": {},
   "outputs": [],
   "source": [
    "df.to_csv('Top_10_ODI_All_Rounder.csv',encoding='utf-8-sig')"
   ]
  },
  {
   "cell_type": "code",
   "execution_count": null,
   "metadata": {},
   "outputs": [],
   "source": []
  }
 ],
 "metadata": {
  "kernelspec": {
   "display_name": "Python 3",
   "language": "python",
   "name": "python3"
  },
  "language_info": {
   "codemirror_mode": {
    "name": "ipython",
    "version": 3
   },
   "file_extension": ".py",
   "mimetype": "text/x-python",
   "name": "python",
   "nbconvert_exporter": "python",
   "pygments_lexer": "ipython3",
   "version": "3.7.6"
  }
 },
 "nbformat": 4,
 "nbformat_minor": 4
}
