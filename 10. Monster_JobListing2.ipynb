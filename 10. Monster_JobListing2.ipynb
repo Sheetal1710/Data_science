{
 "cells": [
  {
   "cell_type": "markdown",
   "metadata": {},
   "source": [
    "# 10. Python program to scrape ‘datascientist’ joblistings for location ‘NewDelhi’ from ‘Monster.com’."
   ]
  },
  {
   "cell_type": "code",
   "execution_count": 1,
   "metadata": {},
   "outputs": [
    {
     "name": "stdout",
     "output_type": "stream",
     "text": [
      "Requirement already satisfied: selenium in /Library/anaconda3/lib/python3.7/site-packages (3.141.0)\r\n",
      "Requirement already satisfied: urllib3 in /Library/anaconda3/lib/python3.7/site-packages (from selenium) (1.25.8)\r\n"
     ]
    }
   ],
   "source": [
    "!pip install selenium"
   ]
  },
  {
   "cell_type": "code",
   "execution_count": 3,
   "metadata": {},
   "outputs": [],
   "source": [
    "from selenium import webdriver\n",
    "from bs4 import BeautifulSoup\n",
    "import pandas as pd\n",
    "import csv"
   ]
  },
  {
   "cell_type": "code",
   "execution_count": 4,
   "metadata": {},
   "outputs": [],
   "source": [
    "driver = webdriver.Chrome(\"/Users/apple/.wdm/drivers/chromedriver/mac64/86.0.4240.22/chromedriver\")"
   ]
  },
  {
   "cell_type": "code",
   "execution_count": 6,
   "metadata": {},
   "outputs": [],
   "source": [
    "url='https://www.monsterindia.com/srp/results?query=Data%20Scientist&locations=Delhi&searchId=d2ece40b-9868-4464-9b43-45a00909725c'\n",
    "driver.get(url)"
   ]
  },
  {
   "cell_type": "code",
   "execution_count": 7,
   "metadata": {},
   "outputs": [],
   "source": [
    "soup=BeautifulSoup(driver.page_source, 'html.parser')"
   ]
  },
  {
   "cell_type": "code",
   "execution_count": 8,
   "metadata": {},
   "outputs": [],
   "source": [
    "results = soup.find_all('div',attrs={'class':'job-tittle'})"
   ]
  },
  {
   "cell_type": "code",
   "execution_count": 9,
   "metadata": {},
   "outputs": [],
   "source": [
    "item = results[0]"
   ]
  },
  {
   "cell_type": "code",
   "execution_count": 10,
   "metadata": {},
   "outputs": [],
   "source": [
    "def extract_record(item):\n",
    "    \n",
    "    try:\n",
    "        Job_Title = item.find('h3','medium').text.strip()\n",
    "    except AttributeError:\n",
    "        return\n",
    "    \n",
    "    \n",
    "    try:\n",
    "        Company = item.find('span','company-name').text.strip()\n",
    "    except AttributeError:\n",
    "        return\n",
    "    \n",
    "    try:\n",
    "        Location = item.find('span','loc').text.strip()\n",
    "        Experience = item.find('div','exp col-xxs-12 col-sm-3 text-ellipsis').text.strip()\n",
    "    except AttributeError:\n",
    "        Location = ''\n",
    "        Experience= ''\n",
    "    \n",
    "    result =(Job_Title, Company, Location, Experience)\n",
    "    \n",
    "    return result"
   ]
  },
  {
   "cell_type": "code",
   "execution_count": 13,
   "metadata": {},
   "outputs": [],
   "source": [
    "#save data to csv file\n",
    "with open('job_listings.csv','w',newline='',encoding='utf-8') as f:\n",
    "    writer = csv.writer(f)\n",
    "    writer.writerow(['Job_Title', 'Company', 'Location', 'Experience'])\n",
    "    writer.writerows(records)"
   ]
  },
  {
   "cell_type": "code",
   "execution_count": 11,
   "metadata": {},
   "outputs": [],
   "source": [
    "records = []\n",
    "results = soup.find_all('div',attrs={'class':'job-tittle'})\n",
    "for item in results:\n",
    "    record = extract_record(item)\n",
    "    if record:\n",
    "        records.append(record)"
   ]
  },
  {
   "cell_type": "code",
   "execution_count": 11,
   "metadata": {},
   "outputs": [
    {
     "data": {
      "text/plain": [
       "[('Data Analyst / Fresher /  Data Scientist / Graduate Fresher  - MNC - 7303778896 | 9560245147',\n",
       "  'Structured Learning Assistance Consultants India Private Limited',\n",
       "  'Delhi, Ghaziabad',\n",
       "  '0-5 Years'),\n",
       " ('Data Analyst / Fresher /  Data Scientist / Graduate Fresher  - MNC - 7303778896 | 9560245147',\n",
       "  'Structured Learning Assistance Consultants India Private Limited',\n",
       "  'Delhi, Gurgaon / Gurugram',\n",
       "  '0-5 Years'),\n",
       " ('Data Analyst – Fresher – Data Scientist – Any Graduate - Fresher  6397800351 | 9717266846',\n",
       "  'Structured Learning Assistance Consultants India Private Limited',\n",
       "  'Delhi, Noida',\n",
       "  '0-5 Years'),\n",
       " ('Data Analyst / Fresher /  Data Scientist / Graduate Fresher  - MNC - 7303778896 | 9560245147',\n",
       "  'Structured Learning Assistance Consultants India Private Limited',\n",
       "  'Delhi, Ghaziabad',\n",
       "  '0-5 Years'),\n",
       " ('Data Analyst – Fresher – Data Scientist – Graduate - Fresher  7303778896 | 9560245147 | 6397800351',\n",
       "  'Structured Learning Assistance Consultants India Private Limited',\n",
       "  'Delhi, Gurgaon / Gurugram',\n",
       "  '0-5 Years'),\n",
       " ('Data Analyst – Fresher – Data Scientist – Graduate - Fresher  7303778896 | 9560245147 | 6397800351',\n",
       "  'Structured Learning Assistance Consultants India Private Limited',\n",
       "  'Delhi, Noida',\n",
       "  '0-5 Years'),\n",
       " ('DATA ANALYST – FRESHER – DATA SCIENTIST – SAS – PYTHON – TABLEAU - Fresher / Exp',\n",
       "  'Structured Learning Assistance Consultants India Private Limited',\n",
       "  'Delhi, Noida',\n",
       "  '0-5 Years'),\n",
       " ('Data Scientist',\n",
       "  'Talent Corner Hr Services Private Limited',\n",
       "  'Pune, Delhi NCR',\n",
       "  '3-6 Years'),\n",
       " ('Data Scientist - 11', 'Accenture', 'Delhi, Mumbai', '0-3 Years'),\n",
       " ('Data Scientist - 09', 'Accenture', 'Delhi, Mumbai', '3-6 Years'),\n",
       " ('Data Scientist - 09', 'Accenture', 'Delhi, Mumbai', '3-6 Years'),\n",
       " ('Data Scientist - 11', 'Accenture', 'Delhi, Mumbai', '0-3 Years'),\n",
       " ('Data Scientist - Gurgaon || Experience 5 - 7 years',\n",
       "  'WNS Global Services Private Limited',\n",
       "  'Delhi, Delhi NCR',\n",
       "  'Not Specified'),\n",
       " ('Manager - Predective Modeler',\n",
       "  'Genpact',\n",
       "  'Gurgaon / Gurugram',\n",
       "  '5-8 Years'),\n",
       " ('Assistant Manager - Data Scientist',\n",
       "  'Genpact',\n",
       "  'Gurgaon / Gurugram',\n",
       "  'Fresher'),\n",
       " ('Job Opportunity || Sr. Data Scientist  || 6 Months Contract–Permanent || Gurgaon',\n",
       "  'Select Source International Private Limited',\n",
       "  'Gurgaon / Gurugram',\n",
       "  '5-10 Years'),\n",
       " ('Manager - Data Science', 'Genpact', 'Gurgaon / Gurugram', 'Not Specified'),\n",
       " ('Business Intelligence Engineer',\n",
       "  'Amazon',\n",
       "  'Gurgaon / Gurugram',\n",
       "  '3-6 Years'),\n",
       " ('Data Scientist',\n",
       "  'Speegile Consulting',\n",
       "  'Gurgaon / Gurugram, Kolkata',\n",
       "  '3-8 Years'),\n",
       " ('AWS, Pyspark - Gurgaon',\n",
       "  'Magna Infotech Limited',\n",
       "  'Gurgaon / Gurugram, Noida',\n",
       "  '5-15 Years'),\n",
       " ('Assistant Vice President - Data Scientist',\n",
       "  'Genpact',\n",
       "  'Gurgaon / Gurugram',\n",
       "  'Not Specified'),\n",
       " ('Job Opportunity || Sr. Data Scientist  || 6 Months Contract–Permanent',\n",
       "  'Select Source International Private Limited',\n",
       "  'Gurgaon / Gurugram',\n",
       "  '5-10 Years'),\n",
       " ('Data Scientist Senior',\n",
       "  'ANI Calls India Private Limited',\n",
       "  'Noida, India',\n",
       "  '5-8 Years'),\n",
       " ('Manager - Data Scientist', 'Genpact', 'Noida, India', 'Not Specified'),\n",
       " ('Data Scientist', 'Globallogic Technologies Limited', 'Noida', '3-8 Years')]"
      ]
     },
     "execution_count": 11,
     "metadata": {},
     "output_type": "execute_result"
    }
   ],
   "source": [
    "records"
   ]
  },
  {
   "cell_type": "code",
   "execution_count": null,
   "metadata": {},
   "outputs": [],
   "source": []
  }
 ],
 "metadata": {
  "kernelspec": {
   "display_name": "Python 3",
   "language": "python",
   "name": "python3"
  },
  "language_info": {
   "codemirror_mode": {
    "name": "ipython",
    "version": 3
   },
   "file_extension": ".py",
   "mimetype": "text/x-python",
   "name": "python",
   "nbconvert_exporter": "python",
   "pygments_lexer": "ipython3",
   "version": "3.7.6"
  }
 },
 "nbformat": 4,
 "nbformat_minor": 4
}
