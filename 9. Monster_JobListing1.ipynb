{
 "cells": [
  {
   "cell_type": "markdown",
   "metadata": {},
   "source": [
    "# 9. Python program to scrape ‘software developer’ job listings from ‘Monster.com’. It should include all the jobs listed for the next 5 pages."
   ]
  },
  {
   "cell_type": "code",
   "execution_count": 1,
   "metadata": {},
   "outputs": [
    {
     "name": "stdout",
     "output_type": "stream",
     "text": [
      "Requirement already satisfied: selenium in /Library/anaconda3/lib/python3.7/site-packages (3.141.0)\r\n",
      "Requirement already satisfied: urllib3 in /Library/anaconda3/lib/python3.7/site-packages (from selenium) (1.25.8)\r\n"
     ]
    }
   ],
   "source": [
    "!pip install selenium"
   ]
  },
  {
   "cell_type": "code",
   "execution_count": 2,
   "metadata": {},
   "outputs": [],
   "source": [
    "from selenium import webdriver\n",
    "from bs4 import BeautifulSoup\n",
    "import pandas as pd"
   ]
  },
  {
   "cell_type": "code",
   "execution_count": 3,
   "metadata": {},
   "outputs": [],
   "source": [
    "def get_url(search_term):\n",
    "    template = 'https://www.monsterindia.com/srp/results?query={}&searchId=f63b8288-78d5-4d2b-849d-9b8921e7073f'\n",
    "    search_term = search_term.replace(' ','+')\n",
    "    \n",
    "    url = template.format(search_term)\n",
    "    \n",
    "    url += 'start()'\n",
    "    \n",
    "    return url\n",
    "\n",
    "def extract_record(item):\n",
    "    \n",
    "    try:\n",
    "        Job_Title = item.find('h3','medium').text.strip()\n",
    "    except AttributeError:\n",
    "        return\n",
    "    \n",
    "    \n",
    "    try:\n",
    "        Company = item.find('span','company-name').text.strip()\n",
    "    except AttributeError:\n",
    "        return\n",
    "    \n",
    "    try:\n",
    "        Location = item.find('span','loc').text.strip()\n",
    "        Experience = item.find('div','exp col-xxs-12 col-sm-3 text-ellipsis').text.strip()\n",
    "    except AttributeError:\n",
    "        Location = ''\n",
    "        Experience= ''\n",
    "    \n",
    "    result =(Job_Title, Company, Location, Experience)\n",
    "    \n",
    "    print(result)\n",
    "\n",
    "def main(search_term):\n",
    "    \n",
    "    driver = webdriver.Chrome(\"/Users/apple/.wdm/drivers/chromedriver/mac64/86.0.4240.22/chromedriver\")\n",
    "    \n",
    "    records = []\n",
    "    url = get_url(search_term)\n",
    "    \n",
    "    for page in range(1,6):\n",
    "        driver.get(url.format(page))\n",
    "        soup=BeautifulSoup(driver.page_source, 'html.parser')\n",
    "        results = soup.find_all('div',attrs={'class':'job-tittle'})\n",
    "        \n",
    "        for item in results:\n",
    "            record = extract_record(item)\n",
    "            if record:\n",
    "                records.append(record)\n",
    "         \n",
    "                \n",
    "    driver.close()\n",
    "    \n",
    "with open('job_listings_sd.csv','w',newline='',encoding='utf-8') as f:\n",
    "    \n",
    "    writer = csv.writer(f)\n",
    "    writer.writerow(['Job_Title', 'Company', 'Location', 'Experience'])\n",
    "    writer.writerows(records)   "
   ]
  },
  {
   "cell_type": "code",
   "execution_count": 4,
   "metadata": {},
   "outputs": [
    {
     "name": "stdout",
     "output_type": "stream",
     "text": [
      "('Api Development', 'TalentFirst HR Consulting Private Limited', 'Bengaluru / Bangalore', '8-12 Years')\n",
      "4\n",
      "('Dotnet Web Developer', 'AasaanJobs Private Limited', 'Surat', '1-6 Years')\n",
      "4\n",
      "('Software Developer - Immediate Joiner', 'Ksolves India Limited', 'Noida', 'Fresher')\n",
      "4\n",
      "('Permanent Opportunity at Innobox Systems - Docker + Networking', 'Innobox Systems Private Limited', 'Bengaluru / Bangalore, Hyderabad / Secunderabad', '5-12 Years')\n",
      "4\n",
      "('Plsql Developer', 'Acute Informatics Private Limited', 'Ahmedabad', '0-1 Years')\n",
      "4\n",
      "('Software Developer', 'Gunank Technologies Private Limited', 'Singrauli', '3-5 Years')\n",
      "4\n",
      "('Software Developer', 'Manheer Singh (Proprietor Of BigBoss Decor)', 'Mohali', '0-2 Years')\n",
      "4\n",
      "('Software Developer, Dot Net Programmer Dot Net Developer', 'Company Name Confidential', 'Mumbai, Pune', '0-5 Years')\n",
      "4\n",
      "('Software Developer', 'AJ Career', 'Indore', '0-5 Years')\n",
      "4\n",
      "('Hiring Java Software Developer', 'Gravity Career Solution', 'Navi Mumbai', '0-2 Years')\n",
      "4\n",
      "('Associate Software Developer', 'India Manpower Group', 'Hyderabad / Secunderabad', '0-4 Years')\n",
      "4\n",
      "('Software Developer Software Engineer', 'Astral Manpower Services', 'Japan', '5-10 Years')\n",
      "4\n",
      "('Junior Software Developer Opening for Freshers', 'Best Caliber Creator', 'Chennai', '0-2 Years')\n",
      "4\n",
      "('Good Opportunity For Trainee Software Developer', 'Fly Care India', 'Thane', '0-1 Years')\n",
      "4\n",
      "('Software Engineer  Software Developer  Magento Developer', 'Freelancer- Phoenix Hr Solutions And Consulting', 'Ahmedabad, Bengaluru / Bangalore', '3-10 Years')\n",
      "4\n",
      "('Software Engineer', 'Interbiz Consulting', 'Chhindwara, Raipur', '2-5 Years')\n",
      "4\n",
      "('Software Developer/ Software Engineer/Software Tester', 'Fly Care India', 'Bengaluru / Bangalore', '0-3 Years')\n",
      "4\n",
      "('Immediate hiring for Software Developers / Sr. Software Developers', 'VIENNA IT SOLUTIONS PVT LTD', 'Mohali, Chandigarh', '5-12 Years')\n",
      "4\n",
      "('Urgent Opening for Software Developer ( PHP ) at Mulund', 'T7E Aftermarket Connect Private Limited', 'Mumbai City', '1-4 Years')\n",
      "4\n",
      "('SERVICENOW  DEVELOPER/ Lead Developer /  Software Developer', 'MITS Solution', 'Hyderabad / Secunderabad', '0-10 Years')\n",
      "4\n",
      "('Software Engineer Trainee', 'India Manpower Group', 'Mangalore', '0-3 Years')\n",
      "4\n",
      "('Associate Software Engineer', 'Acute Informatics Private Limited', 'Ahmedabad', '0-2 Years')\n",
      "4\n",
      "('Senior Software Developer', 'Company Name Confidential', 'Delhi, Noida', '2-8 Years')\n",
      "4\n",
      "('Software Developer Required in Canada & Australia', 'Pear Visa Immigration Services Private Limited', 'Australia, Canada', '2-10 Years')\n",
      "4\n",
      "('Full Stack Engineer (Node.JS, NoSQL)', 'Snaphunt Pte Ltd', 'Delhi', '1-4 Years')\n",
      "4\n"
     ]
    }
   ],
   "source": [
    "main('software developer')"
   ]
  }
 ],
 "metadata": {
  "kernelspec": {
   "display_name": "Python 3",
   "language": "python",
   "name": "python3"
  },
  "language_info": {
   "codemirror_mode": {
    "name": "ipython",
    "version": 3
   },
   "file_extension": ".py",
   "mimetype": "text/x-python",
   "name": "python",
   "nbconvert_exporter": "python",
   "pygments_lexer": "ipython3",
   "version": "3.7.6"
  }
 },
 "nbformat": 4,
 "nbformat_minor": 4
}
