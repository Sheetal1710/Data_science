{
 "cells": [
  {
   "cell_type": "markdown",
   "metadata": {},
   "source": [
    "# 4. Python program to scrap book name, author name, genre and book review of any 5 books from ‘www.bookpage.com’"
   ]
  },
  {
   "cell_type": "code",
   "execution_count": 1,
   "metadata": {},
   "outputs": [
    {
     "name": "stdout",
     "output_type": "stream",
     "text": [
      "Requirement already satisfied: selenium in /Library/anaconda3/lib/python3.7/site-packages (3.141.0)\r\n",
      "Requirement already satisfied: urllib3 in /Library/anaconda3/lib/python3.7/site-packages (from selenium) (1.25.8)\r\n"
     ]
    }
   ],
   "source": [
    "!pip install selenium"
   ]
  },
  {
   "cell_type": "code",
   "execution_count": 2,
   "metadata": {},
   "outputs": [],
   "source": [
    "from selenium import webdriver\n",
    "from bs4 import BeautifulSoup\n",
    "import pandas as pd"
   ]
  },
  {
   "cell_type": "code",
   "execution_count": 3,
   "metadata": {},
   "outputs": [],
   "source": [
    "driver = webdriver.Chrome(\"/Users/apple/.wdm/drivers/chromedriver/mac64/86.0.4240.22/chromedriver\")"
   ]
  },
  {
   "cell_type": "code",
   "execution_count": 4,
   "metadata": {},
   "outputs": [],
   "source": [
    "url = 'https://bookpage.com/reviews?book_genre=nonfiction&page=1'\n",
    "driver.get(url)"
   ]
  },
  {
   "cell_type": "code",
   "execution_count": 5,
   "metadata": {},
   "outputs": [],
   "source": [
    "soup=BeautifulSoup(driver.page_source, 'html.parser')"
   ]
  },
  {
   "cell_type": "code",
   "execution_count": 6,
   "metadata": {},
   "outputs": [],
   "source": [
    "results = soup.find_all('div',attrs={'class':'flex-article-content'})"
   ]
  },
  {
   "cell_type": "code",
   "execution_count": 7,
   "metadata": {},
   "outputs": [
    {
     "data": {
      "text/plain": [
       "10"
      ]
     },
     "execution_count": 7,
     "metadata": {},
     "output_type": "execute_result"
    }
   ],
   "source": [
    "len(results)"
   ]
  },
  {
   "cell_type": "code",
   "execution_count": 8,
   "metadata": {},
   "outputs": [],
   "source": [
    "item = results[0]"
   ]
  },
  {
   "cell_type": "code",
   "execution_count": 20,
   "metadata": {},
   "outputs": [],
   "source": [
    "def extract_record(item):\n",
    "    try:\n",
    "        Book = item.find('h4','italic').text.strip()\n",
    "        Author = item.find('p','sans bold').text.strip()\n",
    "    except AttributeError:\n",
    "        return\n",
    "    \n",
    "    try:\n",
    "        Genre = item.find('p','genre-links hidden-phone').text.replace('\\n/\\n','').replace(\" \",\"\").strip()\n",
    "        Review = item.find('p','excerpt').text.replace('\\n\\n','').replace(\" \",\"\").strip()\n",
    "    except AttributeError:\n",
    "        Genre = ''\n",
    "        Review = ''\n",
    "    \n",
    "    result =(Book,Author,Genre,Review)\n",
    "    \n",
    "    return result"
   ]
  },
  {
   "cell_type": "code",
   "execution_count": 21,
   "metadata": {},
   "outputs": [],
   "source": [
    "records = []\n",
    "results = soup.find_all('div',attrs={'class':'flex-article-content'},limit=5)\n",
    "for item in results:\n",
    "    record = extract_record(item)\n",
    "    if record:\n",
    "        records.append(record)"
   ]
  },
  {
   "cell_type": "code",
   "execution_count": 22,
   "metadata": {},
   "outputs": [
    {
     "data": {
      "text/plain": [
       "[('I’ll Be Seeing You',\n",
       "  'Elizabeth Berg',\n",
       "  'Nonfiction\\n/\\nMemoir\\n/\\nFamily&Relationships',\n",
       "  '“Thisbookisadiaryofmyparents’decline.”SoopensnovelistElizabethBerg’snewbiographicmemoir,I’llBeSeeingYou.\\xa0Yes,herprologuespeaksbluntly,butdon’tbedeterred.\\xa0Thoughthisbook\\xa0doesbearwitnesstotheinevitabilityofaging...'),\n",
       " ('The Kidnapping Club',\n",
       "  'Jonathan Daniel Wells',\n",
       "  'Nonfiction\\n/\\nAmericanHistory\\n/\\nAfricanAmericanHistory',\n",
       "  'Urbaneandbustling,NewYorkCityisoftenconsideredtheepitomeof“Northern-ness.”However,inthedecadesbeforetheCivilWar,thecity’sinterestswereverymuchinlinewiththoseofSoutherncottonfarmers.Throughitsfinance,insuranceandshippingindustries,New...'),\n",
       " ('★ The Zealot and the Emancipator',\n",
       "  'H.W. Brands',\n",
       "  'Nonfiction\\n/\\nHistory\\n/\\nAmericanHistory',\n",
       "  'Youmightbeforgivenforthinkingthatabookaboutafirebrandwhopushesacentristpoliticiantotakeamorejustpositiononracewaswrittenaboutcurrentevents.However,TheZealotandtheEmancipatorbyH.W.Brandsexaminestherelationshipbetweentwomenwhonevermetbutplayed...'),\n",
       " ('★ A Walk Around the Block',\n",
       "  'Spike Carlsen',\n",
       "  'Nonfiction\\n/\\nScience&Nature',\n",
       "  'IntheseunprecedenteddaysoftheCOVID-19pandemic,wemayfindourhouseboundselvesmorecuriousthaneveraboutwhat’sgoingonoutdoorsinourneighborhoodsandacrossourcitiesandtowns.Wheredoeselectricitycomefrom?Whathappenstoourtrashandrecyclableswhentheyleaveour...'),\n",
       " ('Cary Grant',\n",
       "  'Scott Eyman',\n",
       "  'Nonfiction\\n/\\nBiography\\n/\\nCelebrities',\n",
       "  'FilmhistorianScottEymantakesafreshlookatamovielegendinthesparklingbiographyCaryGrant:ABrilliantDisguise.Drawinguponextensiveinterviewsandarchivalmaterials,includingthestar’spersonalpapers,EymanshowsthatGrant(1904–1986),kingoftheromanticcomedy...')]"
      ]
     },
     "execution_count": 22,
     "metadata": {},
     "output_type": "execute_result"
    }
   ],
   "source": [
    "records"
   ]
  },
  {
   "cell_type": "code",
   "execution_count": null,
   "metadata": {},
   "outputs": [],
   "source": []
  }
 ],
 "metadata": {
  "kernelspec": {
   "display_name": "Python 3",
   "language": "python",
   "name": "python3"
  },
  "language_info": {
   "codemirror_mode": {
    "name": "ipython",
    "version": 3
   },
   "file_extension": ".py",
   "mimetype": "text/x-python",
   "name": "python",
   "nbconvert_exporter": "python",
   "pygments_lexer": "ipython3",
   "version": "3.7.6"
  }
 },
 "nbformat": 4,
 "nbformat_minor": 4
}
