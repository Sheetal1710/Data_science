{
 "cells": [
  {
   "cell_type": "markdown",
   "metadata": {},
   "source": [
    "# 5. i) Python program to display Top 10 ODI teams in men’s cricket along with the records for matches, points and rating from ‘www.icc-cricket.com’.\n"
   ]
  },
  {
   "cell_type": "code",
   "execution_count": 1,
   "metadata": {},
   "outputs": [
    {
     "name": "stdout",
     "output_type": "stream",
     "text": [
      "Requirement already satisfied: selenium in /Library/anaconda3/lib/python3.7/site-packages (3.141.0)\r\n",
      "Requirement already satisfied: urllib3 in /Library/anaconda3/lib/python3.7/site-packages (from selenium) (1.25.8)\r\n"
     ]
    }
   ],
   "source": [
    "!pip install selenium"
   ]
  },
  {
   "cell_type": "code",
   "execution_count": 2,
   "metadata": {},
   "outputs": [],
   "source": [
    "from selenium import webdriver\n",
    "from bs4 import BeautifulSoup\n",
    "import pandas as pd"
   ]
  },
  {
   "cell_type": "code",
   "execution_count": 3,
   "metadata": {},
   "outputs": [],
   "source": [
    "driver = webdriver.Chrome(\"/Users/apple/.wdm/drivers/chromedriver/mac64/86.0.4240.22/chromedriver\")"
   ]
  },
  {
   "cell_type": "code",
   "execution_count": 6,
   "metadata": {},
   "outputs": [],
   "source": [
    "Team= []\n",
    "Matches =[]\n",
    "Rating= []\n",
    "\n",
    "url = 'https://www.icc-cricket.com/rankings/mens/team-rankings/odi'\n",
    "driver.get(url)"
   ]
  },
  {
   "cell_type": "code",
   "execution_count": 7,
   "metadata": {},
   "outputs": [],
   "source": [
    "soup=BeautifulSoup(driver.page_source, 'html.parser')"
   ]
  },
  {
   "cell_type": "code",
   "execution_count": 8,
   "metadata": {},
   "outputs": [],
   "source": [
    "for i in soup.find_all(\"span\",attrs={'class':\"u-hide-phablet\"},limit=10):\n",
    "    names = i.text.replace('\\n\\n',' ').replace(\" \",\"\").strip()\n",
    "    Team.append(names)"
   ]
  },
  {
   "cell_type": "code",
   "execution_count": 9,
   "metadata": {},
   "outputs": [
    {
     "data": {
      "text/plain": [
       "['England',\n",
       " 'India',\n",
       " 'NewZealand',\n",
       " 'Australia',\n",
       " 'SouthAfrica',\n",
       " 'Pakistan',\n",
       " 'Bangladesh',\n",
       " 'SriLanka',\n",
       " 'WestIndies',\n",
       " 'Afghanistan']"
      ]
     },
     "execution_count": 9,
     "metadata": {},
     "output_type": "execute_result"
    }
   ],
   "source": [
    "Team"
   ]
  },
  {
   "cell_type": "code",
   "execution_count": 10,
   "metadata": {},
   "outputs": [],
   "source": [
    "top=soup.find(\"td\",attrs={'class':\"rankings-block__banner--matches\"})\n",
    "temp=top.text.replace('\\n',' ')\n",
    "Matches.append(temp)\n",
    "for i in soup.find_all(\"td\",attrs={'class':\"table-body__cell u-center-text\"},limit=9):\n",
    "    match= i.text.replace(\" \",\"\").strip()\n",
    "    Matches.append(match)"
   ]
  },
  {
   "cell_type": "code",
   "execution_count": 11,
   "metadata": {},
   "outputs": [
    {
     "data": {
      "text/plain": [
       "['44', '49', '5,819', '32', '3,716', '36', '3,941', '31', '3,345', '33']"
      ]
     },
     "execution_count": 11,
     "metadata": {},
     "output_type": "execute_result"
    }
   ],
   "source": [
    "Matches"
   ]
  },
  {
   "cell_type": "code",
   "execution_count": 12,
   "metadata": {},
   "outputs": [],
   "source": [
    "top=soup.find(\"td\",attrs={'class':\"rankings-block__banner--rating u-text-right\"})\n",
    "temp=top.text.replace('\\n',' ')\n",
    "Rating.append(temp)\n",
    "for i in soup.find_all(\"td\",attrs={'class':\"table-body__cell u-text-right rating\"},limit=9):\n",
    "    ratings= i.text.replace(\" \",\"\").strip()\n",
    "    Rating.append(ratings)"
   ]
  },
  {
   "cell_type": "code",
   "execution_count": 13,
   "metadata": {},
   "outputs": [
    {
     "data": {
      "text/plain": [
       "['                             123                               ',\n",
       " '119',\n",
       " '116',\n",
       " '109',\n",
       " '108',\n",
       " '102',\n",
       " '88',\n",
       " '85',\n",
       " '76',\n",
       " '55']"
      ]
     },
     "execution_count": 13,
     "metadata": {},
     "output_type": "execute_result"
    }
   ],
   "source": [
    "Rating"
   ]
  },
  {
   "cell_type": "markdown",
   "metadata": {},
   "source": [
    "# ii) Top 10 ODI Batsmen in men along with the records of their team and rating."
   ]
  },
  {
   "cell_type": "code",
   "execution_count": 15,
   "metadata": {},
   "outputs": [],
   "source": [
    "Batsmen= []\n",
    "Team =[]\n",
    "Rating= []\n",
    "\n",
    "url ='https://www.icc-cricket.com/rankings/mens/player-rankings/odi/batting'\n",
    "driver.get(url)"
   ]
  },
  {
   "cell_type": "code",
   "execution_count": 16,
   "metadata": {},
   "outputs": [],
   "source": [
    "soup=BeautifulSoup(driver.page_source, 'html.parser')"
   ]
  },
  {
   "cell_type": "code",
   "execution_count": 17,
   "metadata": {},
   "outputs": [],
   "source": [
    "top=soup.find(\"td\",attrs={'class':\"rankings-block__top-player-container\"})\n",
    "temp=top.text.replace('\\n',' ')\n",
    "Batsmen.append(temp)\n",
    "for i in soup.find_all(\"td\",attrs={'class':\"table-body__cell rankings-table__name name\"},limit=9):\n",
    "    player = i.text.replace('\\n\\n',' ').replace(\" \",\"\").strip()\n",
    "    Batsmen.append(player)"
   ]
  },
  {
   "cell_type": "code",
   "execution_count": 18,
   "metadata": {},
   "outputs": [],
   "source": [
    "top=soup.find(\"div\",attrs={'class':\"rankings-block__banner--nationality\"})\n",
    "temp=top.text.replace('\\n',' ')\n",
    "Team.append(temp)\n",
    "for i in soup.find_all(\"span\",attrs={'class':\"table-body__logo-text\"},limit=9):\n",
    "    teams = i.text.replace('\\n\\n',' ').replace(\" \",\"\").strip()\n",
    "    Team.append(teams)"
   ]
  },
  {
   "cell_type": "code",
   "execution_count": 19,
   "metadata": {},
   "outputs": [],
   "source": [
    "top=soup.find(\"div\",attrs={'class':\"rankings-block__banner--rating\"})\n",
    "temp=top.text.replace('\\n',' ')\n",
    "Rating.append(temp)\n",
    "for i in soup.find_all(\"td\",attrs={'class':\"table-body__cell rating\"},limit=9):\n",
    "    ratings = i.text.replace('\\n\\n',' ').replace(\" \",\"\").strip()\n",
    "    Rating.append(ratings)"
   ]
  },
  {
   "cell_type": "code",
   "execution_count": 20,
   "metadata": {},
   "outputs": [
    {
     "data": {
      "text/html": [
       "<div>\n",
       "<style scoped>\n",
       "    .dataframe tbody tr th:only-of-type {\n",
       "        vertical-align: middle;\n",
       "    }\n",
       "\n",
       "    .dataframe tbody tr th {\n",
       "        vertical-align: top;\n",
       "    }\n",
       "\n",
       "    .dataframe thead th {\n",
       "        text-align: right;\n",
       "    }\n",
       "</style>\n",
       "<table border=\"1\" class=\"dataframe\">\n",
       "  <thead>\n",
       "    <tr style=\"text-align: right;\">\n",
       "      <th></th>\n",
       "      <th>Batsmen</th>\n",
       "      <th>Team</th>\n",
       "      <th>Rating</th>\n",
       "    </tr>\n",
       "  </thead>\n",
       "  <tbody>\n",
       "    <tr>\n",
       "      <th>0</th>\n",
       "      <td>Virat Kohli</td>\n",
       "      <td>IND</td>\n",
       "      <td>871</td>\n",
       "    </tr>\n",
       "    <tr>\n",
       "      <th>1</th>\n",
       "      <td>RohitSharma</td>\n",
       "      <td>IND</td>\n",
       "      <td>855</td>\n",
       "    </tr>\n",
       "    <tr>\n",
       "      <th>2</th>\n",
       "      <td>BabarAzam</td>\n",
       "      <td>PAK</td>\n",
       "      <td>829</td>\n",
       "    </tr>\n",
       "    <tr>\n",
       "      <th>3</th>\n",
       "      <td>RossTaylor</td>\n",
       "      <td>NZ</td>\n",
       "      <td>818</td>\n",
       "    </tr>\n",
       "    <tr>\n",
       "      <th>4</th>\n",
       "      <td>FrancoisduPlessis</td>\n",
       "      <td>SA</td>\n",
       "      <td>790</td>\n",
       "    </tr>\n",
       "    <tr>\n",
       "      <th>5</th>\n",
       "      <td>KaneWilliamson</td>\n",
       "      <td>NZ</td>\n",
       "      <td>765</td>\n",
       "    </tr>\n",
       "    <tr>\n",
       "      <th>6</th>\n",
       "      <td>AaronFinch</td>\n",
       "      <td>AUS</td>\n",
       "      <td>762</td>\n",
       "    </tr>\n",
       "    <tr>\n",
       "      <th>7</th>\n",
       "      <td>DavidWarner</td>\n",
       "      <td>AUS</td>\n",
       "      <td>759</td>\n",
       "    </tr>\n",
       "    <tr>\n",
       "      <th>8</th>\n",
       "      <td>QuintondeKock</td>\n",
       "      <td>SA</td>\n",
       "      <td>755</td>\n",
       "    </tr>\n",
       "    <tr>\n",
       "      <th>9</th>\n",
       "      <td>JonnyBairstow</td>\n",
       "      <td>ENG</td>\n",
       "      <td>754</td>\n",
       "    </tr>\n",
       "  </tbody>\n",
       "</table>\n",
       "</div>"
      ],
      "text/plain": [
       "                  Batsmen                        Team Rating\n",
       "0          Virat Kohli       IND                         871\n",
       "1             RohitSharma                         IND    855\n",
       "2               BabarAzam                         PAK    829\n",
       "3              RossTaylor                          NZ    818\n",
       "4       FrancoisduPlessis                          SA    790\n",
       "5          KaneWilliamson                          NZ    765\n",
       "6              AaronFinch                         AUS    762\n",
       "7             DavidWarner                         AUS    759\n",
       "8           QuintondeKock                          SA    755\n",
       "9           JonnyBairstow                         ENG    754"
      ]
     },
     "execution_count": 20,
     "metadata": {},
     "output_type": "execute_result"
    }
   ],
   "source": [
    "df= pd.DataFrame({'Batsmen':Batsmen, 'Team':Team,'Rating':Rating})\n",
    "df"
   ]
  },
  {
   "cell_type": "code",
   "execution_count": 21,
   "metadata": {},
   "outputs": [],
   "source": [
    "df.to_csv('Top_10_ODI_Batsmen.csv',encoding='utf-8-sig')"
   ]
  },
  {
   "cell_type": "markdown",
   "metadata": {},
   "source": [
    "# iii) Top 10 ODI bowlers along with the records of their team and rating."
   ]
  },
  {
   "cell_type": "code",
   "execution_count": 22,
   "metadata": {},
   "outputs": [],
   "source": [
    "Bowler= []\n",
    "Team =[]\n",
    "Rating= []\n",
    "\n",
    "url ='https://www.icc-cricket.com/rankings/mens/player-rankings/odi/bowling'\n",
    "driver.get(url)"
   ]
  },
  {
   "cell_type": "code",
   "execution_count": 23,
   "metadata": {},
   "outputs": [],
   "source": [
    "soup=BeautifulSoup(driver.page_source, 'html.parser')"
   ]
  },
  {
   "cell_type": "code",
   "execution_count": 24,
   "metadata": {},
   "outputs": [],
   "source": [
    "top=soup.find(\"div\",attrs={'class':\"rankings-block__banner--name-large\"})\n",
    "temp=top.text.replace('\\n',' ')\n",
    "Bowler.append(temp)\n",
    "for i in soup.find_all(\"td\",attrs={'class':\"table-body__cell rankings-table__name name\"},limit=9):\n",
    "    players = i.text.replace('\\n\\n',' ').replace(\" \",\"\").strip()\n",
    "    Bowler.append(players)"
   ]
  },
  {
   "cell_type": "code",
   "execution_count": 25,
   "metadata": {},
   "outputs": [],
   "source": [
    "top=soup.find(\"div\",attrs={'class':\"rankings-block__banner--nationality\"})\n",
    "temp=top.text.replace('\\n',' ')\n",
    "Team.append(temp)\n",
    "for i in soup.find_all(\"span\",attrs={'class':\"table-body__logo-text\"},limit=9):\n",
    "    teams = i.text.replace('\\n\\n',' ').replace(\" \",\"\").strip()\n",
    "    Team.append(teams)"
   ]
  },
  {
   "cell_type": "code",
   "execution_count": 26,
   "metadata": {},
   "outputs": [],
   "source": [
    "top=soup.find(\"div\",attrs={'class':\"rankings-block__banner--rating\"})\n",
    "temp=top.text.replace('\\n',' ')\n",
    "Rating.append(temp)\n",
    "for i in soup.find_all(\"td\",attrs={'class':\"table-body__cell rating\"},limit=9):\n",
    "    ratings = i.text.replace('\\n\\n',' ').replace(\" \",\"\").strip()\n",
    "    Rating.append(ratings)"
   ]
  },
  {
   "cell_type": "code",
   "execution_count": 27,
   "metadata": {},
   "outputs": [
    {
     "data": {
      "text/html": [
       "<div>\n",
       "<style scoped>\n",
       "    .dataframe tbody tr th:only-of-type {\n",
       "        vertical-align: middle;\n",
       "    }\n",
       "\n",
       "    .dataframe tbody tr th {\n",
       "        vertical-align: top;\n",
       "    }\n",
       "\n",
       "    .dataframe thead th {\n",
       "        text-align: right;\n",
       "    }\n",
       "</style>\n",
       "<table border=\"1\" class=\"dataframe\">\n",
       "  <thead>\n",
       "    <tr style=\"text-align: right;\">\n",
       "      <th></th>\n",
       "      <th>Bowlers</th>\n",
       "      <th>Team</th>\n",
       "      <th>Rating</th>\n",
       "    </tr>\n",
       "  </thead>\n",
       "  <tbody>\n",
       "    <tr>\n",
       "      <th>0</th>\n",
       "      <td>Trent Boult</td>\n",
       "      <td>NZ</td>\n",
       "      <td>722</td>\n",
       "    </tr>\n",
       "    <tr>\n",
       "      <th>1</th>\n",
       "      <td>JaspritBumrah</td>\n",
       "      <td>IND</td>\n",
       "      <td>719</td>\n",
       "    </tr>\n",
       "    <tr>\n",
       "      <th>2</th>\n",
       "      <td>MujeebUrRahman</td>\n",
       "      <td>AFG</td>\n",
       "      <td>701</td>\n",
       "    </tr>\n",
       "    <tr>\n",
       "      <th>3</th>\n",
       "      <td>ChrisWoakes</td>\n",
       "      <td>ENG</td>\n",
       "      <td>675</td>\n",
       "    </tr>\n",
       "    <tr>\n",
       "      <th>4</th>\n",
       "      <td>KagisoRabada</td>\n",
       "      <td>SA</td>\n",
       "      <td>665</td>\n",
       "    </tr>\n",
       "    <tr>\n",
       "      <th>5</th>\n",
       "      <td>PatCummins</td>\n",
       "      <td>AUS</td>\n",
       "      <td>659</td>\n",
       "    </tr>\n",
       "    <tr>\n",
       "      <th>6</th>\n",
       "      <td>MohammadAmir</td>\n",
       "      <td>PAK</td>\n",
       "      <td>657</td>\n",
       "    </tr>\n",
       "    <tr>\n",
       "      <th>7</th>\n",
       "      <td>JoshHazlewood</td>\n",
       "      <td>AUS</td>\n",
       "      <td>654</td>\n",
       "    </tr>\n",
       "    <tr>\n",
       "      <th>8</th>\n",
       "      <td>MattHenry</td>\n",
       "      <td>NZ</td>\n",
       "      <td>641</td>\n",
       "    </tr>\n",
       "    <tr>\n",
       "      <th>9</th>\n",
       "      <td>JofraArcher</td>\n",
       "      <td>ENG</td>\n",
       "      <td>637</td>\n",
       "    </tr>\n",
       "  </tbody>\n",
       "</table>\n",
       "</div>"
      ],
      "text/plain": [
       "          Bowlers                       Team Rating\n",
       "0     Trent Boult    NZ                         722\n",
       "1   JaspritBumrah                        IND    719\n",
       "2  MujeebUrRahman                        AFG    701\n",
       "3     ChrisWoakes                        ENG    675\n",
       "4    KagisoRabada                         SA    665\n",
       "5      PatCummins                        AUS    659\n",
       "6    MohammadAmir                        PAK    657\n",
       "7   JoshHazlewood                        AUS    654\n",
       "8       MattHenry                         NZ    641\n",
       "9     JofraArcher                        ENG    637"
      ]
     },
     "execution_count": 27,
     "metadata": {},
     "output_type": "execute_result"
    }
   ],
   "source": [
    "df = pd.DataFrame({'Bowlers':Bowler, 'Team':Team,'Rating':Rating})\n",
    "df"
   ]
  },
  {
   "cell_type": "code",
   "execution_count": 28,
   "metadata": {},
   "outputs": [],
   "source": [
    "df.to_csv('Top_10_ODI_Bowlers.csv',encoding='utf-8-sig')"
   ]
  },
  {
   "cell_type": "code",
   "execution_count": null,
   "metadata": {},
   "outputs": [],
   "source": []
  }
 ],
 "metadata": {
  "kernelspec": {
   "display_name": "Python 3",
   "language": "python",
   "name": "python3"
  },
  "language_info": {
   "codemirror_mode": {
    "name": "ipython",
    "version": 3
   },
   "file_extension": ".py",
   "mimetype": "text/x-python",
   "name": "python",
   "nbconvert_exporter": "python",
   "pygments_lexer": "ipython3",
   "version": "3.7.6"
  }
 },
 "nbformat": 4,
 "nbformat_minor": 4
}
