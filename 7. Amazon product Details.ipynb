{
 "cells": [
  {
   "cell_type": "markdown",
   "metadata": {},
   "source": [
    "# 7.Python program to scrape details of all the mobile phones under Rs. 20,000 listed on Amazon.in. "
   ]
  },
  {
   "cell_type": "code",
   "execution_count": 1,
   "metadata": {},
   "outputs": [
    {
     "name": "stdout",
     "output_type": "stream",
     "text": [
      "Requirement already satisfied: selenium in /Library/anaconda3/lib/python3.7/site-packages (3.141.0)\r\n",
      "Requirement already satisfied: urllib3 in /Library/anaconda3/lib/python3.7/site-packages (from selenium) (1.25.8)\r\n"
     ]
    }
   ],
   "source": [
    "!pip install selenium"
   ]
  },
  {
   "cell_type": "code",
   "execution_count": 32,
   "metadata": {},
   "outputs": [],
   "source": [
    "from selenium import webdriver\n",
    "from bs4 import BeautifulSoup\n",
    "import os\n",
    "import requests\n",
    "import pandas as pd"
   ]
  },
  {
   "cell_type": "code",
   "execution_count": 3,
   "metadata": {},
   "outputs": [],
   "source": [
    "driver = webdriver.Chrome(\"/Users/apple/.wdm/drivers/chromedriver/mac64/86.0.4240.22/chromedriver\")"
   ]
  },
  {
   "cell_type": "code",
   "execution_count": 15,
   "metadata": {},
   "outputs": [],
   "source": [
    "url = 'https://www.amazon.in/s?k=mobiles+under+20000&ref=nb_sb_noss_2'\n",
    "driver.get(url)"
   ]
  },
  {
   "cell_type": "code",
   "execution_count": 16,
   "metadata": {},
   "outputs": [],
   "source": [
    "soup=BeautifulSoup(driver.page_source, 'html.parser')"
   ]
  },
  {
   "cell_type": "code",
   "execution_count": 17,
   "metadata": {},
   "outputs": [],
   "source": [
    "def make_directory(dirname):\n",
    "    base_dir =os.getcwd()\n",
    "    dir_path=os.path.join(base_dir, dirname)\n",
    "    if not os.path.exists(dir_path):\n",
    "        os.mkdir(dir_path)"
   ]
  },
  {
   "cell_type": "code",
   "execution_count": 18,
   "metadata": {},
   "outputs": [],
   "source": [
    "make_directory(\"mobile-phones\")"
   ]
  },
  {
   "cell_type": "code",
   "execution_count": 13,
   "metadata": {},
   "outputs": [],
   "source": [
    "product=[product.text for product in soup.findAll('span',attrs={'class':'a-size-medium a-color-base a-text-normal'})]"
   ]
  },
  {
   "cell_type": "code",
   "execution_count": 12,
   "metadata": {},
   "outputs": [],
   "source": [
    "price=[price.text for price in soup.findAll('span',attrs={'class':'a-price-whole'})]"
   ]
  },
  {
   "cell_type": "code",
   "execution_count": 11,
   "metadata": {},
   "outputs": [],
   "source": [
    "Rating=[Rating.text for Rating in soup.findAll('span',attrs={'class':'a-icon-alt'})]"
   ]
  },
  {
   "cell_type": "code",
   "execution_count": 19,
   "metadata": {},
   "outputs": [],
   "source": [
    "images = soup.find_all('img',attrs={'class':'s-image'})"
   ]
  },
  {
   "cell_type": "code",
   "execution_count": 24,
   "metadata": {},
   "outputs": [
    {
     "name": "stdout",
     "output_type": "stream",
     "text": [
      "https://m.media-amazon.com/images/I/71dujTTJDZL._AC_UY218_.jpg\n",
      "https://m.media-amazon.com/images/I/71-Su4Wr0HL._AC_UY218_.jpg\n",
      "https://m.media-amazon.com/images/I/61d-phh4GfL._AC_UY218_.jpg\n",
      "https://images-eu.ssl-images-amazon.com/images/S/amazon-avatars-global/42eb2686-fe64-45ec-87ff-17f7f7c47036._CR0,0,500,500_SX500_._TTD_.jpg\n",
      "https://m.media-amazon.com/images/I/71OxJeyywSL._AC_UL320_.jpg\n",
      "https://m.media-amazon.com/images/I/51k5RDo22UL._AC_UL320_.jpg\n",
      "https://m.media-amazon.com/images/I/71wPwmxo2NL._AC_UL320_.jpg\n",
      "https://m.media-amazon.com/images/I/71dujTTJDZL._AC_UL320_.jpg\n",
      "https://m.media-amazon.com/images/I/71yXShgxvpL._AC_UY218_.jpg\n",
      "https://m.media-amazon.com/images/I/71wPwmxo2NL._AC_UY218_.jpg\n",
      "https://m.media-amazon.com/images/I/91Lr-OxVKjL._AC_UY218_.jpg\n",
      "https://m.media-amazon.com/images/I/71AYb2AGHXL._AC_UY218_.jpg\n",
      "https://m.media-amazon.com/images/I/81onqHVeECL._AC_UY218_.jpg\n",
      "https://m.media-amazon.com/images/I/71maXizzu8L._AC_UY218_.jpg\n",
      "https://m.media-amazon.com/images/I/71QLvGIAq5L._AC_UY218_.jpg\n",
      "https://m.media-amazon.com/images/I/71AYb2AGHXL._AC_UY218_.jpg\n",
      "https://m.media-amazon.com/images/I/71jzMLHiMfL._AC_UY218_.jpg\n",
      "https://m.media-amazon.com/images/I/81o1rDu5FZL._AC_UY218_.jpg\n",
      "https://m.media-amazon.com/images/I/71h+C9wJCjL._AC_UY218_.jpg\n",
      "https://m.media-amazon.com/images/I/71ahT-X2FgL._AC_UY218_.jpg\n",
      "https://m.media-amazon.com/images/I/71ahT-X2FgL._AC_UY218_.jpg\n",
      "https://m.media-amazon.com/images/I/514zYTXaCqL._AC_UY218_.jpg\n"
     ]
    }
   ],
   "source": [
    "urls = []\n",
    "for image in images:\n",
    "    source = image.get('src')\n",
    "    urls.append(source)\n",
    "    print(source)"
   ]
  },
  {
   "cell_type": "code",
   "execution_count": 28,
   "metadata": {},
   "outputs": [
    {
     "name": "stdout",
     "output_type": "stream",
     "text": [
      "Downloading 1 of 22 images from page 1\n",
      "Downloading 2 of 22 images from page 1\n",
      "Downloading 3 of 22 images from page 1\n",
      "Downloading 4 of 22 images from page 1\n",
      "Downloading 5 of 22 images from page 1\n",
      "Downloading 6 of 22 images from page 1\n",
      "Downloading 7 of 22 images from page 1\n",
      "Downloading 8 of 22 images from page 1\n",
      "Downloading 9 of 22 images from page 1\n",
      "Downloading 10 of 22 images from page 1\n",
      "Downloading 11 of 22 images from page 1\n",
      "Downloading 12 of 22 images from page 1\n",
      "Downloading 13 of 22 images from page 1\n",
      "Downloading 14 of 22 images from page 1\n",
      "Downloading 15 of 22 images from page 1\n",
      "Downloading 16 of 22 images from page 1\n",
      "Downloading 17 of 22 images from page 1\n",
      "Downloading 18 of 22 images from page 1\n",
      "Downloading 19 of 22 images from page 1\n",
      "Downloading 20 of 22 images from page 1\n",
      "Downloading 21 of 22 images from page 1\n",
      "Downloading 22 of 22 images from page 1\n"
     ]
    }
   ],
   "source": [
    "for index,link in enumerate(urls):\n",
    "    print(\"Downloading {0} of {1} images from page 1\".format(index+1, len(urls)))\n",
    "    response=requests.get(link)\n",
    "    with open('mobile-phones/img_{0}{1}.jpeg'.format(index,page),\"wb\") as file:\n",
    "        file.write(response.content)"
   ]
  },
  {
   "cell_type": "code",
   "execution_count": 36,
   "metadata": {},
   "outputs": [
    {
     "data": {
      "text/html": [
       "<div>\n",
       "<style scoped>\n",
       "    .dataframe tbody tr th:only-of-type {\n",
       "        vertical-align: middle;\n",
       "    }\n",
       "\n",
       "    .dataframe tbody tr th {\n",
       "        vertical-align: top;\n",
       "    }\n",
       "\n",
       "    .dataframe thead th {\n",
       "        text-align: right;\n",
       "    }\n",
       "</style>\n",
       "<table border=\"1\" class=\"dataframe\">\n",
       "  <thead>\n",
       "    <tr style=\"text-align: right;\">\n",
       "      <th></th>\n",
       "      <th>Product</th>\n",
       "      <th>Price</th>\n",
       "      <th>Url</th>\n",
       "      <th>Rating</th>\n",
       "    </tr>\n",
       "  </thead>\n",
       "  <tbody>\n",
       "    <tr>\n",
       "      <th>0</th>\n",
       "      <td>Samsung Galaxy M21 (Midnight Blue, 4GB RAM, 64...</td>\n",
       "      <td>12,499</td>\n",
       "      <td>h</td>\n",
       "      <td>4 Stars &amp; Up</td>\n",
       "    </tr>\n",
       "    <tr>\n",
       "      <th>1</th>\n",
       "      <td>Samsung Galaxy M31 (Ocean Blue, 6GB RAM, 128GB...</td>\n",
       "      <td>16,499</td>\n",
       "      <td>t</td>\n",
       "      <td>3 Stars &amp; Up</td>\n",
       "    </tr>\n",
       "    <tr>\n",
       "      <th>2</th>\n",
       "      <td>Samsung Galaxy M31s (Mirage Blue, 6GB RAM, 128...</td>\n",
       "      <td>18,499</td>\n",
       "      <td>t</td>\n",
       "      <td>2 Stars &amp; Up</td>\n",
       "    </tr>\n",
       "    <tr>\n",
       "      <th>3</th>\n",
       "      <td>Redmi 8A Dual (Sea Blue, 2GB RAM, 32GB Storage...</td>\n",
       "      <td>16,499</td>\n",
       "      <td>p</td>\n",
       "      <td>1 Star &amp; Up</td>\n",
       "    </tr>\n",
       "    <tr>\n",
       "      <th>4</th>\n",
       "      <td>OPPO A5 2020 (Dazzling White, 4GB RAM, 64GB St...</td>\n",
       "      <td>18,990</td>\n",
       "      <td>s</td>\n",
       "      <td>4.2 out of 5 stars</td>\n",
       "    </tr>\n",
       "    <tr>\n",
       "      <th>...</th>\n",
       "      <td>...</td>\n",
       "      <td>...</td>\n",
       "      <td>...</td>\n",
       "      <td>...</td>\n",
       "    </tr>\n",
       "    <tr>\n",
       "      <th>57</th>\n",
       "      <td>None</td>\n",
       "      <td>None</td>\n",
       "      <td>o</td>\n",
       "      <td>None</td>\n",
       "    </tr>\n",
       "    <tr>\n",
       "      <th>58</th>\n",
       "      <td>None</td>\n",
       "      <td>None</td>\n",
       "      <td>s</td>\n",
       "      <td>None</td>\n",
       "    </tr>\n",
       "    <tr>\n",
       "      <th>59</th>\n",
       "      <td>None</td>\n",
       "      <td>None</td>\n",
       "      <td>s</td>\n",
       "      <td>None</td>\n",
       "    </tr>\n",
       "    <tr>\n",
       "      <th>60</th>\n",
       "      <td>None</td>\n",
       "      <td>None</td>\n",
       "      <td>_</td>\n",
       "      <td>None</td>\n",
       "    </tr>\n",
       "    <tr>\n",
       "      <th>61</th>\n",
       "      <td>None</td>\n",
       "      <td>None</td>\n",
       "      <td>2</td>\n",
       "      <td>None</td>\n",
       "    </tr>\n",
       "  </tbody>\n",
       "</table>\n",
       "<p>62 rows × 4 columns</p>\n",
       "</div>"
      ],
      "text/plain": [
       "                                              Product   Price Url  \\\n",
       "0   Samsung Galaxy M21 (Midnight Blue, 4GB RAM, 64...  12,499   h   \n",
       "1   Samsung Galaxy M31 (Ocean Blue, 6GB RAM, 128GB...  16,499   t   \n",
       "2   Samsung Galaxy M31s (Mirage Blue, 6GB RAM, 128...  18,499   t   \n",
       "3   Redmi 8A Dual (Sea Blue, 2GB RAM, 32GB Storage...  16,499   p   \n",
       "4   OPPO A5 2020 (Dazzling White, 4GB RAM, 64GB St...  18,990   s   \n",
       "..                                                ...     ...  ..   \n",
       "57                                               None    None   o   \n",
       "58                                               None    None   s   \n",
       "59                                               None    None   s   \n",
       "60                                               None    None   _   \n",
       "61                                               None    None   2   \n",
       "\n",
       "                Rating  \n",
       "0         4 Stars & Up  \n",
       "1         3 Stars & Up  \n",
       "2         2 Stars & Up  \n",
       "3          1 Star & Up  \n",
       "4   4.2 out of 5 stars  \n",
       "..                 ...  \n",
       "57                None  \n",
       "58                None  \n",
       "59                None  \n",
       "60                None  \n",
       "61                None  \n",
       "\n",
       "[62 rows x 4 columns]"
      ]
     },
     "execution_count": 36,
     "metadata": {},
     "output_type": "execute_result"
    }
   ],
   "source": [
    "product_list = {\"Product\": product,\"Price\": price,\"Url\": url, \"Rating\":Rating}\n",
    "df = pd.DataFrame.from_dict(product_list, orient='index')\n",
    "df.transpose()"
   ]
  },
  {
   "cell_type": "code",
   "execution_count": null,
   "metadata": {},
   "outputs": [],
   "source": []
  }
 ],
 "metadata": {
  "kernelspec": {
   "display_name": "Python 3",
   "language": "python",
   "name": "python3"
  },
  "language_info": {
   "codemirror_mode": {
    "name": "ipython",
    "version": 3
   },
   "file_extension": ".py",
   "mimetype": "text/x-python",
   "name": "python",
   "nbconvert_exporter": "python",
   "pygments_lexer": "ipython3",
   "version": "3.7.6"
  }
 },
 "nbformat": 4,
 "nbformat_minor": 4
}
