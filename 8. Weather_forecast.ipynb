{
 "cells": [
  {
   "cell_type": "markdown",
   "metadata": {},
   "source": [
    "# 8.Python program to extract information about the 7 day extended  local weather forecast from the National Weather Service website of USA, https://www.weather.gov/ for the city, San Francisco. "
   ]
  },
  {
   "cell_type": "code",
   "execution_count": 1,
   "metadata": {},
   "outputs": [
    {
     "name": "stdout",
     "output_type": "stream",
     "text": [
      "Requirement already satisfied: selenium in /Library/anaconda3/lib/python3.7/site-packages (3.141.0)\n",
      "Requirement already satisfied: urllib3 in /Library/anaconda3/lib/python3.7/site-packages (from selenium) (1.25.8)\n"
     ]
    }
   ],
   "source": [
    "!pip install selenium"
   ]
  },
  {
   "cell_type": "code",
   "execution_count": 4,
   "metadata": {},
   "outputs": [],
   "source": [
    "from selenium import webdriver\n",
    "from bs4 import BeautifulSoup\n",
    "import pandas as pd"
   ]
  },
  {
   "cell_type": "code",
   "execution_count": 5,
   "metadata": {},
   "outputs": [],
   "source": [
    "driver = webdriver.Chrome(\"/Users/apple/.wdm/drivers/chromedriver/mac64/86.0.4240.22/chromedriver\")"
   ]
  },
  {
   "cell_type": "code",
   "execution_count": 7,
   "metadata": {},
   "outputs": [],
   "source": [
    "url = 'https://forecast.weather.gov/MapClick.php?lat=37.777120000000025&lon=-122.41963999999996#.X52BjlMzaqA'\n",
    "driver.get(url)"
   ]
  },
  {
   "cell_type": "code",
   "execution_count": 8,
   "metadata": {},
   "outputs": [],
   "source": [
    "soup=BeautifulSoup(driver.page_source, 'html.parser')"
   ]
  },
  {
   "cell_type": "code",
   "execution_count": 9,
   "metadata": {},
   "outputs": [],
   "source": [
    "seven_day =soup.find(id='seven-day-forecast')"
   ]
  },
  {
   "cell_type": "code",
   "execution_count": 11,
   "metadata": {},
   "outputs": [],
   "source": [
    "forecast_items = seven_day.find_all(class_=\"tombstone-container\")\n",
    "tonight = forecast_items[0]"
   ]
  },
  {
   "cell_type": "code",
   "execution_count": 13,
   "metadata": {},
   "outputs": [
    {
     "name": "stdout",
     "output_type": "stream",
     "text": [
      "Today\n",
      "Sunny\n",
      "High: 75 °F\n"
     ]
    }
   ],
   "source": [
    "period = tonight.find(class_=\"period-name\").get_text()\n",
    "short_desc = tonight.find(class_=\"short-desc\").get_text()\n",
    "temp = tonight.find(class_=\"temp\").get_text()\n",
    "print(period)\n",
    "print(short_desc)\n",
    "print(temp)"
   ]
  },
  {
   "cell_type": "code",
   "execution_count": 14,
   "metadata": {},
   "outputs": [
    {
     "name": "stdout",
     "output_type": "stream",
     "text": [
      "Today: Sunny, with a high near 75. Calm wind becoming west 5 to 8 mph in the afternoon. \n"
     ]
    }
   ],
   "source": [
    "img = tonight.find(\"img\")\n",
    "desc = img['title']\n",
    "print(desc)"
   ]
  },
  {
   "cell_type": "code",
   "execution_count": 15,
   "metadata": {},
   "outputs": [
    {
     "data": {
      "text/plain": [
       "['Today',\n",
       " 'Tonight',\n",
       " 'Sunday',\n",
       " 'SundayNight',\n",
       " 'Monday',\n",
       " 'MondayNight',\n",
       " 'Tuesday',\n",
       " 'TuesdayNight',\n",
       " 'Wednesday']"
      ]
     },
     "execution_count": 15,
     "metadata": {},
     "output_type": "execute_result"
    }
   ],
   "source": [
    "period_tags = seven_day.select(\".tombstone-container .period-name\")\n",
    "periods = [pt.get_text() for pt in period_tags]\n",
    "periods"
   ]
  },
  {
   "cell_type": "code",
   "execution_count": 19,
   "metadata": {},
   "outputs": [
    {
     "name": "stdout",
     "output_type": "stream",
     "text": [
      "['Sunny', 'Mostly Clear', 'Sunny', 'Partly Cloudy', 'Sunny', 'Partly Cloudy', 'Mostly Sunny', 'Partly Cloudy', 'Mostly Sunny']\n",
      "['High: 75 °F', 'Low: 53 °F', 'High: 76 °F', 'Low: 54 °F', 'High: 77 °F', 'Low: 53 °F', 'High: 72 °F', 'Low: 54 °F', 'High: 72 °F']\n",
      "['Today: Sunny, with a high near 75. Calm wind becoming west 5 to 8 mph in the afternoon. ', 'Tonight: Mostly clear, with a low around 53. West wind 5 to 8 mph becoming calm  in the evening. ', 'Sunday: Sunny, with a high near 76. Calm wind becoming northwest around 5 mph in the afternoon. ', 'Sunday Night: Partly cloudy, with a low around 54. West wind 5 to 8 mph becoming calm  in the evening. ', 'Monday: Sunny, with a high near 77. Light northwest wind. ', 'Monday Night: Partly cloudy, with a low around 53.', 'Tuesday: Mostly sunny, with a high near 72.', 'Tuesday Night: Partly cloudy, with a low around 54.', 'Wednesday: Mostly sunny, with a high near 72.']\n"
     ]
    }
   ],
   "source": [
    "short_descs = [sd.get_text() for sd in seven_day.select(\".tombstone-container .short-desc\")]\n",
    "temps = [t.get_text() for t in seven_day.select(\".tombstone-container .temp\")]\n",
    "descs = [d[\"title\"] for d in seven_day.select(\".tombstone-container img\")]\n",
    "print(short_descs)\n",
    "print(temps)\n",
    "print(descs)"
   ]
  },
  {
   "cell_type": "code",
   "execution_count": 20,
   "metadata": {},
   "outputs": [
    {
     "data": {
      "text/html": [
       "<div>\n",
       "<style scoped>\n",
       "    .dataframe tbody tr th:only-of-type {\n",
       "        vertical-align: middle;\n",
       "    }\n",
       "\n",
       "    .dataframe tbody tr th {\n",
       "        vertical-align: top;\n",
       "    }\n",
       "\n",
       "    .dataframe thead th {\n",
       "        text-align: right;\n",
       "    }\n",
       "</style>\n",
       "<table border=\"1\" class=\"dataframe\">\n",
       "  <thead>\n",
       "    <tr style=\"text-align: right;\">\n",
       "      <th></th>\n",
       "      <th>period</th>\n",
       "      <th>short_desc</th>\n",
       "      <th>temp</th>\n",
       "      <th>desc</th>\n",
       "    </tr>\n",
       "  </thead>\n",
       "  <tbody>\n",
       "    <tr>\n",
       "      <th>0</th>\n",
       "      <td>Today</td>\n",
       "      <td>Sunny</td>\n",
       "      <td>High: 75 °F</td>\n",
       "      <td>Today: Sunny, with a high near 75. Calm wind b...</td>\n",
       "    </tr>\n",
       "    <tr>\n",
       "      <th>1</th>\n",
       "      <td>Tonight</td>\n",
       "      <td>Mostly Clear</td>\n",
       "      <td>Low: 53 °F</td>\n",
       "      <td>Tonight: Mostly clear, with a low around 53. W...</td>\n",
       "    </tr>\n",
       "    <tr>\n",
       "      <th>2</th>\n",
       "      <td>Sunday</td>\n",
       "      <td>Sunny</td>\n",
       "      <td>High: 76 °F</td>\n",
       "      <td>Sunday: Sunny, with a high near 76. Calm wind ...</td>\n",
       "    </tr>\n",
       "    <tr>\n",
       "      <th>3</th>\n",
       "      <td>SundayNight</td>\n",
       "      <td>Partly Cloudy</td>\n",
       "      <td>Low: 54 °F</td>\n",
       "      <td>Sunday Night: Partly cloudy, with a low around...</td>\n",
       "    </tr>\n",
       "    <tr>\n",
       "      <th>4</th>\n",
       "      <td>Monday</td>\n",
       "      <td>Sunny</td>\n",
       "      <td>High: 77 °F</td>\n",
       "      <td>Monday: Sunny, with a high near 77. Light nort...</td>\n",
       "    </tr>\n",
       "    <tr>\n",
       "      <th>5</th>\n",
       "      <td>MondayNight</td>\n",
       "      <td>Partly Cloudy</td>\n",
       "      <td>Low: 53 °F</td>\n",
       "      <td>Monday Night: Partly cloudy, with a low around...</td>\n",
       "    </tr>\n",
       "    <tr>\n",
       "      <th>6</th>\n",
       "      <td>Tuesday</td>\n",
       "      <td>Mostly Sunny</td>\n",
       "      <td>High: 72 °F</td>\n",
       "      <td>Tuesday: Mostly sunny, with a high near 72.</td>\n",
       "    </tr>\n",
       "    <tr>\n",
       "      <th>7</th>\n",
       "      <td>TuesdayNight</td>\n",
       "      <td>Partly Cloudy</td>\n",
       "      <td>Low: 54 °F</td>\n",
       "      <td>Tuesday Night: Partly cloudy, with a low aroun...</td>\n",
       "    </tr>\n",
       "    <tr>\n",
       "      <th>8</th>\n",
       "      <td>Wednesday</td>\n",
       "      <td>Mostly Sunny</td>\n",
       "      <td>High: 72 °F</td>\n",
       "      <td>Wednesday: Mostly sunny, with a high near 72.</td>\n",
       "    </tr>\n",
       "  </tbody>\n",
       "</table>\n",
       "</div>"
      ],
      "text/plain": [
       "         period     short_desc         temp  \\\n",
       "0         Today          Sunny  High: 75 °F   \n",
       "1       Tonight   Mostly Clear   Low: 53 °F   \n",
       "2        Sunday          Sunny  High: 76 °F   \n",
       "3   SundayNight  Partly Cloudy   Low: 54 °F   \n",
       "4        Monday          Sunny  High: 77 °F   \n",
       "5   MondayNight  Partly Cloudy   Low: 53 °F   \n",
       "6       Tuesday   Mostly Sunny  High: 72 °F   \n",
       "7  TuesdayNight  Partly Cloudy   Low: 54 °F   \n",
       "8     Wednesday   Mostly Sunny  High: 72 °F   \n",
       "\n",
       "                                                desc  \n",
       "0  Today: Sunny, with a high near 75. Calm wind b...  \n",
       "1  Tonight: Mostly clear, with a low around 53. W...  \n",
       "2  Sunday: Sunny, with a high near 76. Calm wind ...  \n",
       "3  Sunday Night: Partly cloudy, with a low around...  \n",
       "4  Monday: Sunny, with a high near 77. Light nort...  \n",
       "5  Monday Night: Partly cloudy, with a low around...  \n",
       "6        Tuesday: Mostly sunny, with a high near 72.  \n",
       "7  Tuesday Night: Partly cloudy, with a low aroun...  \n",
       "8      Wednesday: Mostly sunny, with a high near 72.  "
      ]
     },
     "execution_count": 20,
     "metadata": {},
     "output_type": "execute_result"
    }
   ],
   "source": [
    "weather = pd.DataFrame({\"period\": periods,\"short_desc\": short_descs,\"temp\": temps, \"desc\":descs})\n",
    "weather"
   ]
  },
  {
   "cell_type": "code",
   "execution_count": 21,
   "metadata": {},
   "outputs": [],
   "source": [
    "weather.to_csv('weather_report.csv',encoding='utf-8-sig')"
   ]
  },
  {
   "cell_type": "code",
   "execution_count": null,
   "metadata": {},
   "outputs": [],
   "source": []
  }
 ],
 "metadata": {
  "kernelspec": {
   "display_name": "Python 3",
   "language": "python",
   "name": "python3"
  },
  "language_info": {
   "codemirror_mode": {
    "name": "ipython",
    "version": 3
   },
   "file_extension": ".py",
   "mimetype": "text/x-python",
   "name": "python",
   "nbconvert_exporter": "python",
   "pygments_lexer": "ipython3",
   "version": "3.7.6"
  }
 },
 "nbformat": 4,
 "nbformat_minor": 4
}
